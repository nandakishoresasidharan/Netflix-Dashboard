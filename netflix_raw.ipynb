{
 "cells": [
  {
   "cell_type": "code",
   "execution_count": 1,
   "id": "6148acf8-8a62-4290-91e1-5a1f725d00ab",
   "metadata": {},
   "outputs": [],
   "source": [
    "import pandas as pd, re, csv"
   ]
  },
  {
   "cell_type": "code",
   "execution_count": 2,
   "id": "1f0ba3cd-75f5-4543-a5ae-7228def3a70f",
   "metadata": {},
   "outputs": [
    {
     "data": {
      "text/html": [
       "<div>\n",
       "<style scoped>\n",
       "    .dataframe tbody tr th:only-of-type {\n",
       "        vertical-align: middle;\n",
       "    }\n",
       "\n",
       "    .dataframe tbody tr th {\n",
       "        vertical-align: top;\n",
       "    }\n",
       "\n",
       "    .dataframe thead th {\n",
       "        text-align: right;\n",
       "    }\n",
       "</style>\n",
       "<table border=\"1\" class=\"dataframe\">\n",
       "  <thead>\n",
       "    <tr style=\"text-align: right;\">\n",
       "      <th></th>\n",
       "      <th>show_id</th>\n",
       "      <th>type</th>\n",
       "      <th>title</th>\n",
       "      <th>director</th>\n",
       "      <th>cast</th>\n",
       "      <th>country</th>\n",
       "      <th>date_added</th>\n",
       "      <th>release_year</th>\n",
       "      <th>rating</th>\n",
       "      <th>duration</th>\n",
       "      <th>listed_in</th>\n",
       "      <th>description</th>\n",
       "    </tr>\n",
       "  </thead>\n",
       "  <tbody>\n",
       "    <tr>\n",
       "      <th>0</th>\n",
       "      <td>s1</td>\n",
       "      <td>Movie</td>\n",
       "      <td>Dick Johnson Is Dead</td>\n",
       "      <td>Kirsten Johnson</td>\n",
       "      <td>NaN</td>\n",
       "      <td>United States</td>\n",
       "      <td>September 25, 2021</td>\n",
       "      <td>2020</td>\n",
       "      <td>PG-13</td>\n",
       "      <td>90 min</td>\n",
       "      <td>Documentaries</td>\n",
       "      <td>As her father nears the end of his life, filmm...</td>\n",
       "    </tr>\n",
       "    <tr>\n",
       "      <th>1</th>\n",
       "      <td>s2</td>\n",
       "      <td>TV Show</td>\n",
       "      <td>Blood &amp; Water</td>\n",
       "      <td>NaN</td>\n",
       "      <td>Ama Qamata, Khosi Ngema, Gail Mabalane, Thaban...</td>\n",
       "      <td>South Africa</td>\n",
       "      <td>September 24, 2021</td>\n",
       "      <td>2021</td>\n",
       "      <td>TV-MA</td>\n",
       "      <td>2 Seasons</td>\n",
       "      <td>International TV Shows, TV Dramas, TV Mysteries</td>\n",
       "      <td>After crossing paths at a party, a Cape Town t...</td>\n",
       "    </tr>\n",
       "    <tr>\n",
       "      <th>2</th>\n",
       "      <td>s3</td>\n",
       "      <td>TV Show</td>\n",
       "      <td>Ganglands</td>\n",
       "      <td>Julien Leclercq</td>\n",
       "      <td>Sami Bouajila, Tracy Gotoas, Samuel Jouy, Nabi...</td>\n",
       "      <td>NaN</td>\n",
       "      <td>September 24, 2021</td>\n",
       "      <td>2021</td>\n",
       "      <td>TV-MA</td>\n",
       "      <td>1 Season</td>\n",
       "      <td>Crime TV Shows, International TV Shows, TV Act...</td>\n",
       "      <td>To protect his family from a powerful drug lor...</td>\n",
       "    </tr>\n",
       "    <tr>\n",
       "      <th>3</th>\n",
       "      <td>s4</td>\n",
       "      <td>TV Show</td>\n",
       "      <td>Jailbirds New Orleans</td>\n",
       "      <td>NaN</td>\n",
       "      <td>NaN</td>\n",
       "      <td>NaN</td>\n",
       "      <td>September 24, 2021</td>\n",
       "      <td>2021</td>\n",
       "      <td>TV-MA</td>\n",
       "      <td>1 Season</td>\n",
       "      <td>Docuseries, Reality TV</td>\n",
       "      <td>Feuds, flirtations and toilet talk go down amo...</td>\n",
       "    </tr>\n",
       "    <tr>\n",
       "      <th>4</th>\n",
       "      <td>s5</td>\n",
       "      <td>TV Show</td>\n",
       "      <td>Kota Factory</td>\n",
       "      <td>NaN</td>\n",
       "      <td>Mayur More, Jitendra Kumar, Ranjan Raj, Alam K...</td>\n",
       "      <td>India</td>\n",
       "      <td>September 24, 2021</td>\n",
       "      <td>2021</td>\n",
       "      <td>TV-MA</td>\n",
       "      <td>2 Seasons</td>\n",
       "      <td>International TV Shows, Romantic TV Shows, TV ...</td>\n",
       "      <td>In a city of coaching centers known to train I...</td>\n",
       "    </tr>\n",
       "  </tbody>\n",
       "</table>\n",
       "</div>"
      ],
      "text/plain": [
       "  show_id     type                  title         director  \\\n",
       "0      s1    Movie   Dick Johnson Is Dead  Kirsten Johnson   \n",
       "1      s2  TV Show          Blood & Water              NaN   \n",
       "2      s3  TV Show              Ganglands  Julien Leclercq   \n",
       "3      s4  TV Show  Jailbirds New Orleans              NaN   \n",
       "4      s5  TV Show           Kota Factory              NaN   \n",
       "\n",
       "                                                cast        country  \\\n",
       "0                                                NaN  United States   \n",
       "1  Ama Qamata, Khosi Ngema, Gail Mabalane, Thaban...   South Africa   \n",
       "2  Sami Bouajila, Tracy Gotoas, Samuel Jouy, Nabi...            NaN   \n",
       "3                                                NaN            NaN   \n",
       "4  Mayur More, Jitendra Kumar, Ranjan Raj, Alam K...          India   \n",
       "\n",
       "           date_added  release_year rating   duration  \\\n",
       "0  September 25, 2021          2020  PG-13     90 min   \n",
       "1  September 24, 2021          2021  TV-MA  2 Seasons   \n",
       "2  September 24, 2021          2021  TV-MA   1 Season   \n",
       "3  September 24, 2021          2021  TV-MA   1 Season   \n",
       "4  September 24, 2021          2021  TV-MA  2 Seasons   \n",
       "\n",
       "                                           listed_in  \\\n",
       "0                                      Documentaries   \n",
       "1    International TV Shows, TV Dramas, TV Mysteries   \n",
       "2  Crime TV Shows, International TV Shows, TV Act...   \n",
       "3                             Docuseries, Reality TV   \n",
       "4  International TV Shows, Romantic TV Shows, TV ...   \n",
       "\n",
       "                                         description  \n",
       "0  As her father nears the end of his life, filmm...  \n",
       "1  After crossing paths at a party, a Cape Town t...  \n",
       "2  To protect his family from a powerful drug lor...  \n",
       "3  Feuds, flirtations and toilet talk go down amo...  \n",
       "4  In a city of coaching centers known to train I...  "
      ]
     },
     "execution_count": 2,
     "metadata": {},
     "output_type": "execute_result"
    }
   ],
   "source": [
    "df = pd.read_csv('netflix.csv')\n",
    "df.head()"
   ]
  },
  {
   "cell_type": "code",
   "execution_count": 3,
   "id": "76b2e6ea-f5d5-4700-8608-1571ec950464",
   "metadata": {},
   "outputs": [],
   "source": [
    "df.columns = df.columns.str.title()\n",
    "category = df.select_dtypes(include = 'object').columns\n",
    "df[category] = df[category].apply(lambda x: x.str.strip().str.title())"
   ]
  },
  {
   "cell_type": "code",
   "execution_count": 4,
   "id": "9b61c4b4-f0d7-41a7-acac-ebe35b844618",
   "metadata": {},
   "outputs": [
    {
     "name": "stdout",
     "output_type": "stream",
     "text": [
      "<class 'pandas.core.frame.DataFrame'>\n",
      "RangeIndex: 8807 entries, 0 to 8806\n",
      "Data columns (total 12 columns):\n",
      " #   Column        Non-Null Count  Dtype \n",
      "---  ------        --------------  ----- \n",
      " 0   Show_Id       8807 non-null   object\n",
      " 1   Type          8807 non-null   object\n",
      " 2   Title         8807 non-null   object\n",
      " 3   Director      6173 non-null   object\n",
      " 4   Cast          7982 non-null   object\n",
      " 5   Country       7976 non-null   object\n",
      " 6   Date_Added    8797 non-null   object\n",
      " 7   Release_Year  8807 non-null   int64 \n",
      " 8   Rating        8803 non-null   object\n",
      " 9   Duration      8804 non-null   object\n",
      " 10  Listed_In     8807 non-null   object\n",
      " 11  Description   8807 non-null   object\n",
      "dtypes: int64(1), object(11)\n",
      "memory usage: 825.8+ KB\n"
     ]
    }
   ],
   "source": [
    "df.info()"
   ]
  },
  {
   "cell_type": "code",
   "execution_count": 5,
   "id": "e0ed9b71-bac1-4b14-b856-842a7be06749",
   "metadata": {},
   "outputs": [
    {
     "data": {
      "text/plain": [
       "Show_Id            0\n",
       "Type               0\n",
       "Title              0\n",
       "Director        2634\n",
       "Cast             825\n",
       "Country          831\n",
       "Date_Added        10\n",
       "Release_Year       0\n",
       "Rating             4\n",
       "Duration           3\n",
       "Listed_In          0\n",
       "Description        0\n",
       "dtype: int64"
      ]
     },
     "execution_count": 5,
     "metadata": {},
     "output_type": "execute_result"
    }
   ],
   "source": [
    "df.isna().sum()"
   ]
  },
  {
   "cell_type": "code",
   "execution_count": 6,
   "id": "6cb565a9-6ba0-4900-b51f-ec92045b59e7",
   "metadata": {},
   "outputs": [
    {
     "name": "stdout",
     "output_type": "stream",
     "text": [
      "<class 'pandas.core.frame.DataFrame'>\n",
      "RangeIndex: 8807 entries, 0 to 8806\n",
      "Data columns (total 13 columns):\n",
      " #   Column        Non-Null Count  Dtype \n",
      "---  ------        --------------  ----- \n",
      " 0   Show_Id       8807 non-null   object\n",
      " 1   Type          8807 non-null   object\n",
      " 2   Title         8807 non-null   object\n",
      " 3   Director      6173 non-null   object\n",
      " 4   Cast          7982 non-null   object\n",
      " 5   Country       7976 non-null   object\n",
      " 6   Date_Added    8797 non-null   object\n",
      " 7   Release_Year  8807 non-null   int64 \n",
      " 8   Rating        8803 non-null   object\n",
      " 9   Duration      8804 non-null   object\n",
      " 10  Listed_In     8807 non-null   object\n",
      " 11  Description   8807 non-null   object\n",
      " 12  Has_Director  8807 non-null   bool  \n",
      "dtypes: bool(1), int64(1), object(11)\n",
      "memory usage: 834.4+ KB\n"
     ]
    }
   ],
   "source": [
    "df['Has_Director'] = df['Director'].notna()\n",
    "df.info()"
   ]
  },
  {
   "cell_type": "code",
   "execution_count": 7,
   "id": "4d645dd4-2859-476e-80ef-1df11123f5ca",
   "metadata": {},
   "outputs": [
    {
     "data": {
      "text/plain": [
       "Show_Id          0\n",
       "Type             0\n",
       "Title            0\n",
       "Director         0\n",
       "Cast             0\n",
       "Country          0\n",
       "Date_Added      10\n",
       "Release_Year     0\n",
       "Rating           4\n",
       "Duration         3\n",
       "Listed_In        0\n",
       "Description      0\n",
       "Has_Director     0\n",
       "dtype: int64"
      ]
     },
     "execution_count": 7,
     "metadata": {},
     "output_type": "execute_result"
    }
   ],
   "source": [
    "df['Director'] = df['Director'].fillna('Unknown')\n",
    "df['Cast'] = df['Cast'].fillna('Unknown')\n",
    "df['Country'] = df['Country'].fillna('Unknown')\n",
    "df.isna().sum()"
   ]
  },
  {
   "cell_type": "code",
   "execution_count": 8,
   "id": "8ac6c772-2601-4789-8747-7564cb4eacac",
   "metadata": {},
   "outputs": [],
   "source": [
    "df['Date_Added'] = pd.to_datetime(df['Date_Added'], format = 'mixed')"
   ]
  },
  {
   "cell_type": "code",
   "execution_count": 9,
   "id": "7f4acd20-bcce-4dce-a366-0193709dc0e6",
   "metadata": {},
   "outputs": [
    {
     "data": {
      "text/plain": [
       "Show_Id         0\n",
       "Type            0\n",
       "Title           0\n",
       "Director        0\n",
       "Cast            0\n",
       "Country         0\n",
       "Date_Added      0\n",
       "Release_Year    0\n",
       "Rating          0\n",
       "Duration        3\n",
       "Listed_In       0\n",
       "Description     0\n",
       "Has_Director    0\n",
       "dtype: int64"
      ]
     },
     "execution_count": 9,
     "metadata": {},
     "output_type": "execute_result"
    }
   ],
   "source": [
    "df['Date_Added'] = df['Date_Added'].fillna(df['Date_Added'].mode()[0])\n",
    "df['Rating'] = df['Rating'].fillna(df['Rating'].mode()[0])\n",
    "df.isna().sum()"
   ]
  },
  {
   "cell_type": "code",
   "execution_count": 10,
   "id": "cda6a207-76bb-4f26-b901-bd742617584e",
   "metadata": {},
   "outputs": [
    {
     "data": {
      "text/plain": [
       "Show_Id         0\n",
       "Type            0\n",
       "Title           0\n",
       "Director        0\n",
       "Cast            0\n",
       "Country         0\n",
       "Date_Added      0\n",
       "Release_Year    0\n",
       "Rating          0\n",
       "Duration        0\n",
       "Listed_In       0\n",
       "Description     0\n",
       "Has_Director    0\n",
       "dtype: int64"
      ]
     },
     "execution_count": 10,
     "metadata": {},
     "output_type": "execute_result"
    }
   ],
   "source": [
    "df['Duration'] = df['Duration'].fillna(df.groupby('Type')['Duration'].transform(lambda x: x.mode()[0]))\n",
    "df.isna().sum()"
   ]
  },
  {
   "cell_type": "code",
   "execution_count": 11,
   "id": "8af746d2-751a-4c49-a118-e2c304825f5f",
   "metadata": {},
   "outputs": [
    {
     "data": {
      "text/plain": [
       "6"
      ]
     },
     "execution_count": 11,
     "metadata": {},
     "output_type": "execute_result"
    }
   ],
   "source": [
    "df['Title'].duplicated().sum()"
   ]
  },
  {
   "cell_type": "code",
   "execution_count": 12,
   "id": "34bf05bb-94ac-4255-91d1-b83789bac088",
   "metadata": {},
   "outputs": [
    {
     "name": "stdout",
     "output_type": "stream",
     "text": [
      "Duplicate Title\n",
      "5095         Fullmetal Alchemist\n",
      "5751                  Death Note\n",
      "6529                Consequences\n",
      "6705        Esperando La Carroza\n",
      "7345              Love In A Puff\n",
      "8022    Sin Senos Sí Hay Paraíso\n",
      "Name: Title, dtype: object\n"
     ]
    }
   ],
   "source": [
    "print(f\"Duplicate Title\\n{df['Title'][df['Title'].duplicated()]}\")"
   ]
  },
  {
   "cell_type": "code",
   "execution_count": 13,
   "id": "9a0489cc-91de-4d74-9585-44600549aeb9",
   "metadata": {},
   "outputs": [],
   "source": [
    "df = df.drop_duplicates(subset = 'Title', keep = 'first').reset_index(drop = True)"
   ]
  },
  {
   "cell_type": "code",
   "execution_count": 14,
   "id": "a655fdf3-c241-46c1-bab1-66a5b6a2f5dc",
   "metadata": {},
   "outputs": [
    {
     "data": {
      "text/plain": [
       "0"
      ]
     },
     "execution_count": 14,
     "metadata": {},
     "output_type": "execute_result"
    }
   ],
   "source": [
    "df['Title'].duplicated().sum()"
   ]
  },
  {
   "cell_type": "code",
   "execution_count": 15,
   "id": "361b6218-60e7-4d33-b4c2-2e3f87c82aff",
   "metadata": {},
   "outputs": [],
   "source": [
    "df['Added_Year'] = df['Date_Added'].dt.year\n",
    "df['Added_Month'] = df['Date_Added'].dt.month_name()"
   ]
  },
  {
   "cell_type": "code",
   "execution_count": 16,
   "id": "253618ca-3aa9-4c83-b5a5-4d8393aa6738",
   "metadata": {},
   "outputs": [
    {
     "data": {
      "text/plain": [
       "Listed_In\n",
       "Dramas, International Movies                          362\n",
       "Documentaries                                         359\n",
       "Stand-Up Comedy                                       334\n",
       "Comedies, Dramas, International Movies                273\n",
       "Dramas, Independent Movies, International Movies      252\n",
       "                                                     ... \n",
       "Kids' Tv, Tv Action & Adventure, Tv Dramas              1\n",
       "Tv Comedies, Tv Dramas, Tv Horror                       1\n",
       "Children & Family Movies, Comedies, Lgbtq Movies        1\n",
       "Kids' Tv, Spanish-Language Tv Shows, Teen Tv Shows      1\n",
       "Cult Movies, Dramas, Thrillers                          1\n",
       "Name: count, Length: 514, dtype: int64"
      ]
     },
     "execution_count": 16,
     "metadata": {},
     "output_type": "execute_result"
    }
   ],
   "source": [
    "df['Listed_In'].value_counts()"
   ]
  },
  {
   "cell_type": "code",
   "execution_count": 17,
   "id": "e1d33a00-5a9b-402e-8be5-edda6e62e2b9",
   "metadata": {},
   "outputs": [],
   "source": [
    "df['Listed_In'] = df['Listed_In'].apply(lambda x: [c.strip() for c in re.split(r',|&', x) if c.strip() != ''])\n",
    "df_exploded1 = df.explode('Listed_In')"
   ]
  },
  {
   "cell_type": "code",
   "execution_count": 18,
   "id": "36f059bf-663c-4412-a462-9b4d62e36557",
   "metadata": {},
   "outputs": [
    {
     "data": {
      "text/plain": [
       "Listed_In\n",
       "International Movies         2749\n",
       "Dramas                       2425\n",
       "Comedies                     1672\n",
       "International Tv Shows       1348\n",
       "Adventure                    1027\n",
       "Documentaries                 869\n",
       "Action                        859\n",
       "Tv Dramas                     762\n",
       "Independent Movies            756\n",
       "Children                      641\n",
       "Family Movies                 641\n",
       "Romantic Movies               616\n",
       "Tv Comedies                   581\n",
       "Thrillers                     576\n",
       "Crime Tv Shows                469\n",
       "Kids' Tv                      451\n",
       "Stand-Up Comedy               399\n",
       "Docuseries                    395\n",
       "Musicals                      375\n",
       "Music                         375\n",
       "Romantic Tv Shows             370\n",
       "Horror Movies                 357\n",
       "Fantasy                       327\n",
       "Reality Tv                    255\n",
       "British Tv Shows              253\n",
       "Sci-Fi                        243\n",
       "Sports Movies                 219\n",
       "Anime Series                  174\n",
       "Spanish-Language Tv Shows     173\n",
       "Tv Action                     168\n",
       "Korean Tv Shows               151\n",
       "Classic Movies                116\n",
       "Lgbtq Movies                  102\n",
       "Tv Mysteries                   98\n",
       "Science                        92\n",
       "Nature Tv                      92\n",
       "Tv Sci-Fi                      84\n",
       "Tv Horror                      75\n",
       "Anime Features                 71\n",
       "Cult Movies                    70\n",
       "Teen Tv Shows                  69\n",
       "Faith                          65\n",
       "Spirituality                   65\n",
       "Tv Thrillers                   57\n",
       "Movies                         57\n",
       "Talk Shows                     56\n",
       "Classic                        28\n",
       "Cult Tv                        28\n",
       "Tv Shows                       16\n",
       "Name: count, dtype: int64"
      ]
     },
     "execution_count": 18,
     "metadata": {},
     "output_type": "execute_result"
    }
   ],
   "source": [
    "df_exploded1['Listed_In'].value_counts()"
   ]
  },
  {
   "cell_type": "code",
   "execution_count": 19,
   "id": "5a77944d-e352-4d8d-bba1-35f07085702f",
   "metadata": {},
   "outputs": [],
   "source": [
    "genre = ['Drama', 'Comedy', 'International', 'Crime', 'Horror', 'British', 'Documentary', 'Anime', 'Reality Show', 'Classic', 'Action', 'Romance', 'Independent', 'Sci-Fi', 'Sports', 'Thriller']\n",
    "df_exploded1['Listed_In'] = df_exploded1['Listed_In'].replace({'Dramas' : genre[0], 'Comedies' : genre[1], 'Documentaries' : genre[6], 'International Tv Shows' : genre[2],\n",
    "                                      'Crime Tv Shows' : genre[3], \"Kids' Tv\" : 'Children', 'Stand-Up Comedy' : genre[1], 'Horror Movies' : genre[4],\n",
    "                                      'British Tv Shows' : genre[5], 'Docuseries' : genre[6], 'Anime Series' : genre[7], 'International Movies' : genre[2],\n",
    "                                      'Tv Comedies' : genre[1], 'Reality Tv' : genre[8], 'Classic Movies' : genre[9], 'Tv Dramas' : genre[0], 'Tv Action' : genre[10],\n",
    "                                      'Romantic Tv Shows' : genre[11], 'Anime Features' : genre[7], 'Independent Movies' : genre[12], 'Cult Movies' : 'Cult',\n",
    "                                       'Tv Horror' : genre[4], 'Romantic Movies' : genre[11], 'Spanish-Language Tv Shows' : 'Spanish', 'Lgbtq Movies' : 'LGBTQ',\n",
    "                                       'Tv Sci-Fi' : genre[13], 'Sports Movies' : genre[14], 'Thrillers' : genre[15], 'Family Movies' : 'Family', 'Musicals' : 'Music',\n",
    "                                        'Korean Tv Shows' : 'Korean', 'Tv Mysteries' : 'Mystery', \n",
    "                                        'Nature Tv' : 'Nature', 'Teen Tv Shows' : 'Teen', 'Spirituality' : 'Faith', 'Tv Thrillers' : genre[15], 'Cult Tv' : 'Cult'})"
   ]
  },
  {
   "cell_type": "code",
   "execution_count": 20,
   "id": "a0799eef-3cfc-48f6-b497-435e639a19f5",
   "metadata": {},
   "outputs": [
    {
     "data": {
      "text/plain": [
       "Listed_In\n",
       "International    4097\n",
       "Drama            3187\n",
       "Comedy           2652\n",
       "Documentary      1264\n",
       "Children         1092\n",
       "Action           1027\n",
       "Adventure        1027\n",
       "Romance           986\n",
       "Independent       756\n",
       "Music             750\n",
       "Family            641\n",
       "Thriller          633\n",
       "Crime             469\n",
       "Horror            432\n",
       "Fantasy           327\n",
       "Sci-Fi            327\n",
       "Reality Show      255\n",
       "British           253\n",
       "Anime             245\n",
       "Sports            219\n",
       "Spanish           173\n",
       "Korean            151\n",
       "Classic           144\n",
       "Faith             130\n",
       "LGBTQ             102\n",
       "Mystery            98\n",
       "Cult               98\n",
       "Science            92\n",
       "Nature             92\n",
       "Teen               69\n",
       "Movies             57\n",
       "Talk Shows         56\n",
       "Tv Shows           16\n",
       "Name: count, dtype: int64"
      ]
     },
     "execution_count": 20,
     "metadata": {},
     "output_type": "execute_result"
    }
   ],
   "source": [
    "df_exploded1['Listed_In'].value_counts()"
   ]
  },
  {
   "cell_type": "code",
   "execution_count": 21,
   "id": "d2825617-7543-4637-a3eb-923fbbcf640a",
   "metadata": {},
   "outputs": [
    {
     "data": {
      "text/plain": [
       "Country\n",
       "United States                             2818\n",
       "India                                      972\n",
       "Unknown                                    831\n",
       "United Kingdom                             419\n",
       "Japan                                      243\n",
       "                                          ... \n",
       "Romania, Bulgaria, Hungary                   1\n",
       "Uruguay, Guatemala                           1\n",
       "France, Senegal, Belgium                     1\n",
       "Mexico, United States, Spain, Colombia       1\n",
       "United Arab Emirates, Jordan                 1\n",
       "Name: count, Length: 749, dtype: int64"
      ]
     },
     "execution_count": 21,
     "metadata": {},
     "output_type": "execute_result"
    }
   ],
   "source": [
    "df['Country'].value_counts()"
   ]
  },
  {
   "cell_type": "code",
   "execution_count": 22,
   "id": "50ffedbb-762d-4eaa-916c-749eff423df4",
   "metadata": {},
   "outputs": [],
   "source": [
    "df['Country'] = df['Country'].apply(lambda x: [c.strip() for c in x.split(',') if c.strip() != ''])\n",
    "df_exploded2 = df.explode('Country')"
   ]
  },
  {
   "cell_type": "code",
   "execution_count": 23,
   "id": "24f648ee-bb68-4c44-a208-4da68f3afc82",
   "metadata": {},
   "outputs": [
    {
     "data": {
      "text/plain": [
       "Country\n",
       "United States     3689\n",
       "India             1046\n",
       "Unknown            831\n",
       "United Kingdom     806\n",
       "Canada             445\n",
       "                  ... \n",
       "Bermuda              1\n",
       "Ecuador              1\n",
       "Armenia              1\n",
       "Mongolia             1\n",
       "Montenegro           1\n",
       "Name: count, Length: 123, dtype: int64"
      ]
     },
     "execution_count": 23,
     "metadata": {},
     "output_type": "execute_result"
    }
   ],
   "source": [
    "df_exploded2['Country'].value_counts()"
   ]
  },
  {
   "cell_type": "code",
   "execution_count": 24,
   "id": "a005a845-54fa-4d1e-99ef-54de31a3bd09",
   "metadata": {},
   "outputs": [],
   "source": [
    "df_exploded1.to_csv('genre.csv', index = False, encoding = 'utf-8')\n",
    "df_exploded2.to_csv('country.csv', index = False, encoding = 'utf-8')"
   ]
  },
  {
   "cell_type": "code",
   "execution_count": 25,
   "id": "cf7e9d88-8e81-4e43-9faa-330eab0d036d",
   "metadata": {},
   "outputs": [
    {
     "data": {
      "text/plain": [
       "Rating\n",
       "Tv-Ma       3208\n",
       "Tv-14       2158\n",
       "Tv-Pg        863\n",
       "R            799\n",
       "Pg-13        490\n",
       "Tv-Y7        334\n",
       "Tv-Y         307\n",
       "Pg           287\n",
       "Tv-G         220\n",
       "Nr            79\n",
       "G             41\n",
       "Tv-Y7-Fv       6\n",
       "Nc-17          3\n",
       "Ur             3\n",
       "74 Min         1\n",
       "84 Min         1\n",
       "66 Min         1\n",
       "Name: count, dtype: int64"
      ]
     },
     "execution_count": 25,
     "metadata": {},
     "output_type": "execute_result"
    }
   ],
   "source": [
    "df['Rating'].value_counts()"
   ]
  },
  {
   "cell_type": "code",
   "execution_count": 26,
   "id": "5efb7eff-6269-4e1c-96d3-16139d6c0237",
   "metadata": {},
   "outputs": [],
   "source": [
    "bad_rating = ['74 Min', '84 Min', '66 Min']\n",
    "df = df[~df['Rating'].isin(bad_rating)]"
   ]
  },
  {
   "cell_type": "code",
   "execution_count": 27,
   "id": "72ddf591-adc9-4a7b-900f-cb1c9bc7a191",
   "metadata": {},
   "outputs": [
    {
     "data": {
      "text/plain": [
       "Rating\n",
       "TV-MA       3208\n",
       "TV-14       2158\n",
       "TV-PG        863\n",
       "R            799\n",
       "PG-13        490\n",
       "TV-Y7        334\n",
       "TV-Y         307\n",
       "PG           287\n",
       "TV-G         220\n",
       "NR            79\n",
       "G             41\n",
       "TV-Y7-FV       6\n",
       "NC-17          3\n",
       "UR             3\n",
       "Name: count, dtype: int64"
      ]
     },
     "execution_count": 27,
     "metadata": {},
     "output_type": "execute_result"
    }
   ],
   "source": [
    "df['Rating'] = df['Rating'].str.upper()\n",
    "df['Rating'].value_counts()"
   ]
  },
  {
   "cell_type": "code",
   "execution_count": 53,
   "id": "d70a6099-df0b-4c11-91b7-3003bdd04e95",
   "metadata": {},
   "outputs": [],
   "source": [
    "df.to_csv('clean_df.csv', index = False, encoding = 'utf-8')"
   ]
  },
  {
   "cell_type": "code",
   "execution_count": 52,
   "id": "b0a15cf9-ea22-4e3a-a53f-5bc0cefab6cb",
   "metadata": {},
   "outputs": [
    {
     "name": "stderr",
     "output_type": "stream",
     "text": [
      "C:\\Users\\nanda\\AppData\\Local\\Temp\\ipykernel_20128\\261311734.py:1: FutureWarning: DataFrame.applymap has been deprecated. Use DataFrame.map instead.\n",
      "  (df.applymap(lambda x: '\\n' in str(x) if isinstance(x, str) else False)\n"
     ]
    },
    {
     "data": {
      "text/plain": [
       "Show_Id         0\n",
       "Type            0\n",
       "Title           0\n",
       "Director        0\n",
       "Cast            0\n",
       "Country         0\n",
       "Date_Added      0\n",
       "Release_Year    0\n",
       "Rating          0\n",
       "Duration        0\n",
       "Listed_In       0\n",
       "Description     0\n",
       "Has_Director    0\n",
       "Added_Year      0\n",
       "Added_Month     0\n",
       "dtype: int64"
      ]
     },
     "execution_count": 52,
     "metadata": {},
     "output_type": "execute_result"
    }
   ],
   "source": [
    "(df.applymap(lambda x: '\\n' in str(x) if isinstance(x, str) else False)\n",
    "   .sum())"
   ]
  },
  {
   "cell_type": "code",
   "execution_count": 51,
   "id": "11468670-9c2d-4c6e-a520-14f6c3f639b2",
   "metadata": {},
   "outputs": [
    {
     "name": "stderr",
     "output_type": "stream",
     "text": [
      "C:\\Users\\nanda\\AppData\\Local\\Temp\\ipykernel_20128\\1486372571.py:1: FutureWarning: DataFrame.applymap has been deprecated. Use DataFrame.map instead.\n",
      "  df = df.applymap(lambda x: str(x).replace('\\n', ' ') if isinstance(x, str) else x)\n"
     ]
    }
   ],
   "source": [
    "df = df.applymap(lambda x: str(x).replace('\\n', ' ') if isinstance(x, str) else x)"
   ]
  },
  {
   "cell_type": "code",
   "execution_count": null,
   "id": "8a0817b3-33cc-4b2b-b2a3-80710f515e63",
   "metadata": {},
   "outputs": [],
   "source": []
  }
 ],
 "metadata": {
  "kernelspec": {
   "display_name": "Python 3 (ipykernel)",
   "language": "python",
   "name": "python3"
  },
  "language_info": {
   "codemirror_mode": {
    "name": "ipython",
    "version": 3
   },
   "file_extension": ".py",
   "mimetype": "text/x-python",
   "name": "python",
   "nbconvert_exporter": "python",
   "pygments_lexer": "ipython3",
   "version": "3.12.7"
  }
 },
 "nbformat": 4,
 "nbformat_minor": 5
}
